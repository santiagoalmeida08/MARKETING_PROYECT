{
 "cells": [
  {
   "cell_type": "markdown",
   "metadata": {},
   "source": [
    "# Problema de negocio.\n",
    "Una empresa requiere la elaboración de sistemas de recomendación en su plataforma online para cumplir con los siguientes objetivos:\n",
    "- Mejorar la experiencia de los usuarios en su plataforma.\n",
    "- Mejorar la fidelización de sus usuarios. \n",
    "- Atraer a nuevos usuarios mediante la recomendacion de los clientes actuales.\n",
    "\n",
    "## Procesos impactados. \n",
    "- Marketing\n",
    "- Producción de contenido \n",
    "- Proceso de busqueda cinematográfica \n",
    "\n"
   ]
  },
  {
   "cell_type": "markdown",
   "metadata": {},
   "source": [
    "# Diseño de la solución. (incompleto)"
   ]
  },
  {
   "cell_type": "markdown",
   "metadata": {},
   "source": [
    "\n",
    "¿Qué se espera realizar con el modelo?\n",
    "1. Las 10 peliculas mejores calificadas de la plataforma (recomendación para todos los usuarios)\n",
    "2. 5 peliculas mejor calificadas por mes (recomendación para todos los usuarios)\n",
    "3. La mejor pelicula por año de lanzamiento. (recomendación para todos los usuarios)\n",
    "4. Segun la ultima pelicula vista  por el usuario se le recomiendan 5 peliculas similares (recomendación personalizada)\n",
    "3. 10  peliculas recomendadas segun el perfil de cada usuario (recomendación personalizada).\n",
    "4. 10 Peliculas mas vistas (recomendacion para todos los usuarios)\n",
    "# Zoom analítico.\n",
    "\n",
    "Mensualmente se actualizara la informacion con las calificaciones de las peliculas vistas en ese mes y con esto se recomendara a los usuarios las peliculas con mejores calificaciones en dicho mes, de la misma forma se hara con el modelo que recomienda las peliculas con mejores calificaciones en el año.\n",
    "\n",
    "Para los demas sistemas de recomendacion como el sistema de recomendacion basados en contenido la información se actualizara semanalmente para brindar las mejores recomendaciones. "
   ]
  }
 ],
 "metadata": {
  "language_info": {
   "name": "python"
  }
 },
 "nbformat": 4,
 "nbformat_minor": 2
}
