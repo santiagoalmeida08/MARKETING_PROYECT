{
 "cells": [
  {
   "cell_type": "markdown",
   "metadata": {},
   "source": [
    "# Problema de negocio.\n",
    "Una empresa requiere la elaboración de sistemas de recomendación en su plataforma online para cumplir con los siguientes objetivos:\n",
    "- Mejorar la experiencia de los usuarios en su plataforma.\n",
    "- Mejorar la fidelización de sus usuarios. \n",
    "- Atraer a nuevos usuarios mediante la recomendacion de los clientes actuales.\n",
    "\n",
    "## Procesos impactados. \n",
    "- Marketing\n",
    "- Producción de contenido \n",
    "- Proceso de busqueda cinematográfica \n",
    "\n"
   ]
  },
  {
   "cell_type": "markdown",
   "metadata": {},
   "source": [
    "# Diseño de la solución. (incompleto)"
   ]
  },
  {
   "cell_type": "markdown",
   "metadata": {},
   "source": [
    "# Zoom analítico.\n",
    "\n",
    "\n",
    "¿Qué se espera realizar con el modelo?\n",
    "1. Mostrar 2 peliculas mas vistas por año (misma recomendación para todos los usuarios).\n",
    "2. 5 peliculas mas vistas segun el genero de la ultima pelicula vista (recomendación personalizada/misma recomendación).\n",
    "3. 10  peliculas recomendadas segun el perfil de casa usuario (recomendación personalizada).\n",
    "4. 10 Peliculas mas vistas (recomendacion para todos los usuarios)\n",
    "5. se recomiendas las peliculas mejores calificadas por genero"
   ]
  }
 ],
 "metadata": {
  "language_info": {
   "name": "python"
  }
 },
 "nbformat": 4,
 "nbformat_minor": 2
}
