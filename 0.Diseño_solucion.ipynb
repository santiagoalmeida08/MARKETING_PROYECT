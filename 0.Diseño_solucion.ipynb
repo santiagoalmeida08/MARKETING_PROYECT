{
 "cells": [
  {
   "cell_type": "markdown",
   "metadata": {},
   "source": [
    "# Problema de negocio.\n",
    "Una empresa requiere la elaboración de sistemas de recomendación en su plataforma online para cumplir con los siguientes objetivos:\n",
    "- Mejorar la experiencia de los usuarios en su plataforma.\n",
    "- Mejorar la fidelización de sus usuarios. \n",
    "- Atraer a nuevos usuarios mediante la recomendacion de los clientes actuales.\n",
    "\n",
    "## Procesos impactados. \n",
    "- Marketing\n",
    "- Producción de contenido \n",
    "- Proceso de busqueda cinematográfica \n",
    "\n"
   ]
  },
  {
   "cell_type": "markdown",
   "metadata": {},
   "source": [
    "# Diseño de la solución. (incompleto)"
   ]
  },
  {
   "cell_type": "markdown",
   "metadata": {},
   "source": [
    "# Zoom analítico."
   ]
  }
 ],
 "metadata": {
  "language_info": {
   "name": "python"
  }
 },
 "nbformat": 4,
 "nbformat_minor": 2
}
